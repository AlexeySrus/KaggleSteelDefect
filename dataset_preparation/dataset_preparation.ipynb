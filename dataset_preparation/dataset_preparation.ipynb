{
 "cells": [
  {
   "cell_type": "code",
   "execution_count": 1,
   "metadata": {},
   "outputs": [],
   "source": [
    "from PIL import Image\n",
    "import cv2\n",
    "import os\n",
    "from matplotlib import pyplot as plt\n",
    "import numpy as np\n",
    "import pandas as pd\n",
    "%matplotlib inline"
   ]
  },
  {
   "cell_type": "code",
   "execution_count": 2,
   "metadata": {},
   "outputs": [],
   "source": [
    "path_to_dataset = '../data/dataset/'\n",
    "train_images_folder = os.path.join(path_to_dataset, 'train_images')\n",
    "train_table_path = os.path.join(path_to_dataset, 'train.csv')"
   ]
  },
  {
   "cell_type": "code",
   "execution_count": 3,
   "metadata": {},
   "outputs": [],
   "source": [
    "train_table = pd.read_csv(train_table_path).fillna(-1)"
   ]
  },
  {
   "cell_type": "code",
   "execution_count": 4,
   "metadata": {},
   "outputs": [
    {
     "data": {
      "text/html": [
       "<div>\n",
       "<style scoped>\n",
       "    .dataframe tbody tr th:only-of-type {\n",
       "        vertical-align: middle;\n",
       "    }\n",
       "\n",
       "    .dataframe tbody tr th {\n",
       "        vertical-align: top;\n",
       "    }\n",
       "\n",
       "    .dataframe thead th {\n",
       "        text-align: right;\n",
       "    }\n",
       "</style>\n",
       "<table border=\"1\" class=\"dataframe\">\n",
       "  <thead>\n",
       "    <tr style=\"text-align: right;\">\n",
       "      <th></th>\n",
       "      <th>ImageId_ClassId</th>\n",
       "      <th>EncodedPixels</th>\n",
       "    </tr>\n",
       "  </thead>\n",
       "  <tbody>\n",
       "    <tr>\n",
       "      <th>0</th>\n",
       "      <td>0002cc93b.jpg_1</td>\n",
       "      <td>29102 12 29346 24 29602 24 29858 24 30114 24 3...</td>\n",
       "    </tr>\n",
       "    <tr>\n",
       "      <th>1</th>\n",
       "      <td>0002cc93b.jpg_2</td>\n",
       "      <td>-1</td>\n",
       "    </tr>\n",
       "    <tr>\n",
       "      <th>2</th>\n",
       "      <td>0002cc93b.jpg_3</td>\n",
       "      <td>-1</td>\n",
       "    </tr>\n",
       "    <tr>\n",
       "      <th>3</th>\n",
       "      <td>0002cc93b.jpg_4</td>\n",
       "      <td>-1</td>\n",
       "    </tr>\n",
       "    <tr>\n",
       "      <th>4</th>\n",
       "      <td>00031f466.jpg_1</td>\n",
       "      <td>-1</td>\n",
       "    </tr>\n",
       "    <tr>\n",
       "      <th>5</th>\n",
       "      <td>00031f466.jpg_2</td>\n",
       "      <td>-1</td>\n",
       "    </tr>\n",
       "    <tr>\n",
       "      <th>6</th>\n",
       "      <td>00031f466.jpg_3</td>\n",
       "      <td>-1</td>\n",
       "    </tr>\n",
       "    <tr>\n",
       "      <th>7</th>\n",
       "      <td>00031f466.jpg_4</td>\n",
       "      <td>-1</td>\n",
       "    </tr>\n",
       "    <tr>\n",
       "      <th>8</th>\n",
       "      <td>000418bfc.jpg_1</td>\n",
       "      <td>-1</td>\n",
       "    </tr>\n",
       "    <tr>\n",
       "      <th>9</th>\n",
       "      <td>000418bfc.jpg_2</td>\n",
       "      <td>-1</td>\n",
       "    </tr>\n",
       "    <tr>\n",
       "      <th>10</th>\n",
       "      <td>000418bfc.jpg_3</td>\n",
       "      <td>-1</td>\n",
       "    </tr>\n",
       "    <tr>\n",
       "      <th>11</th>\n",
       "      <td>000418bfc.jpg_4</td>\n",
       "      <td>-1</td>\n",
       "    </tr>\n",
       "    <tr>\n",
       "      <th>12</th>\n",
       "      <td>000789191.jpg_1</td>\n",
       "      <td>-1</td>\n",
       "    </tr>\n",
       "    <tr>\n",
       "      <th>13</th>\n",
       "      <td>000789191.jpg_2</td>\n",
       "      <td>-1</td>\n",
       "    </tr>\n",
       "    <tr>\n",
       "      <th>14</th>\n",
       "      <td>000789191.jpg_3</td>\n",
       "      <td>-1</td>\n",
       "    </tr>\n",
       "  </tbody>\n",
       "</table>\n",
       "</div>"
      ],
      "text/plain": [
       "    ImageId_ClassId                                      EncodedPixels\n",
       "0   0002cc93b.jpg_1  29102 12 29346 24 29602 24 29858 24 30114 24 3...\n",
       "1   0002cc93b.jpg_2                                                 -1\n",
       "2   0002cc93b.jpg_3                                                 -1\n",
       "3   0002cc93b.jpg_4                                                 -1\n",
       "4   00031f466.jpg_1                                                 -1\n",
       "5   00031f466.jpg_2                                                 -1\n",
       "6   00031f466.jpg_3                                                 -1\n",
       "7   00031f466.jpg_4                                                 -1\n",
       "8   000418bfc.jpg_1                                                 -1\n",
       "9   000418bfc.jpg_2                                                 -1\n",
       "10  000418bfc.jpg_3                                                 -1\n",
       "11  000418bfc.jpg_4                                                 -1\n",
       "12  000789191.jpg_1                                                 -1\n",
       "13  000789191.jpg_2                                                 -1\n",
       "14  000789191.jpg_3                                                 -1"
      ]
     },
     "execution_count": 4,
     "metadata": {},
     "output_type": "execute_result"
    }
   ],
   "source": [
    "train_table.head(15)"
   ]
  },
  {
   "cell_type": "code",
   "execution_count": 31,
   "metadata": {},
   "outputs": [],
   "source": [
    "def rleToMask(rleString,height,width):\n",
    "    rows, cols = height, width\n",
    "    if rleString == -1:\n",
    "        return np.zeros((height, width))\n",
    "    else:\n",
    "        rleNumbers = [int(numstring) for numstring in rleString.split(' ')]\n",
    "        rlePairs = np.array(rleNumbers).reshape(-1,2)\n",
    "        img = np.zeros(rows*cols,dtype=np.uint8)\n",
    "        for index,length in rlePairs:\n",
    "            index -= 1\n",
    "            img[index:index+length] = 255\n",
    "            img = img.reshape(cols,rows)\n",
    "            img = img.T\n",
    "        return img\n",
    "    \n",
    "def rle2mask(rle, height, width):    \n",
    "    mask = np.zeros( width*height ).astype(np.uint8)\n",
    "    \n",
    "    array = np.asarray([int(x) for x in rle.split()])\n",
    "    starts = array[0::2]\n",
    "    lengths = array[1::2]\n",
    "\n",
    "    current_position = 0\n",
    "    for index, start in enumerate(starts):\n",
    "        mask[int(start):int(start+lengths[index])] = 255\n",
    "        current_position += lengths[index]\n",
    "        \n",
    "    return mask.reshape(width, height).T"
   ]
  },
  {
   "cell_type": "code",
   "execution_count": 8,
   "metadata": {},
   "outputs": [],
   "source": [
    "channels_data = {}\n",
    "for img_id_class, data in train_table.values:\n",
    "    img_id, channel_class = img_id_class.split('_')\n",
    "    \n",
    "    if img_id not in channels_data.keys():\n",
    "        channels_data[img_id] = {}\n",
    "    \n",
    "    channels_data[img_id][int(channel_class)] = data"
   ]
  },
  {
   "cell_type": "code",
   "execution_count": 33,
   "metadata": {},
   "outputs": [
    {
     "data": {
      "text/plain": [
       "('d572dc596.jpg',\n",
       " {1: -1,\n",
       "  2: -1,\n",
       "  3: '102954 6 103210 18 103466 30 103722 42 103978 54 104234 66 104489 78 104745 90 105001 102 105257 114 105513 126 105769 138 106029 145 106292 150 106555 155 106819 159 107082 164 107345 169 107608 168 107871 161 108134 153 108398 145 108661 138 108924 131 109187 123 109450 116 109714 108 109977 101 110240 93 110503 86 110766 79 111029 71 111293 63 111556 56 111819 49 112082 41 112345 34 112608 27 112872 19 113135 11 113398 4',\n",
       "  4: -1})"
      ]
     },
     "execution_count": 33,
     "metadata": {},
     "output_type": "execute_result"
    }
   ],
   "source": [
    "images_names_list = list(set(map(lambda x: x.split('_')[0], train_table.values[:, 0])))\n",
    "i = 0\n",
    "images_names_list[i], channels_data[images_names_list[i]]"
   ]
  },
  {
   "cell_type": "code",
   "execution_count": 19,
   "metadata": {},
   "outputs": [
    {
     "data": {
      "image/png": "[encoded data removed]",
      "text/plain": [
       "<Figure size 720x720 with 1 Axes>"
      ]
     },
     "metadata": {
      "needs_background": "light"
     },
     "output_type": "display_data"
    }
   ],
   "source": [
    "plt.figure(figsize=(10, 10))\n",
    "plt.imshow(rleToMask(channels_data[images_names_list[i]][3], 256, 1600), 'gray')\n",
    "plt.show()"
   ]
  },
  {
   "cell_type": "code",
   "execution_count": 32,
   "metadata": {},
   "outputs": [
    {
     "data": {
      "image/png": "[encoded data removed]",
      "text/plain": [
       "<Figure size 720x720 with 1 Axes>"
      ]
     },
     "metadata": {
      "needs_background": "light"
     },
     "output_type": "display_data"
    }
   ],
   "source": [
    "plt.figure(figsize=(10, 10))\n",
    "plt.imshow(rle2mask(channels_data[images_names_list[i]][3], 256, 1600), 'gray')\n",
    "plt.show()"
   ]
  },
  {
   "cell_type": "code",
   "execution_count": 41,
   "metadata": {},
   "outputs": [
    {
     "data": {
      "image/png": "[encoded data removed]",
      "text/plain": [
       "<Figure size 720x720 with 1 Axes>"
      ]
     },
     "metadata": {
      "needs_background": "light"
     },
     "output_type": "display_data"
    }
   ],
   "source": [
    "plt.figure(figsize=(10, 10))\n",
    "plt.imshow(\n",
    "    cv2.imread(os.path.join(train_images_folder, images_names_list[i]), 0) *\\\n",
    "    (rle2mask(channels_data[images_names_list[i]][3], 256, 1600) // 255), \n",
    "    'gray'\n",
    ")\n",
    "plt.show()"
   ]
  }
 ],
 "metadata": {
  "kernelspec": {
   "display_name": "Python 3",
   "language": "python",
   "name": "python3"
  },
  "language_info": {
   "codemirror_mode": {
    "name": "ipython",
    "version": 3
   },
   "file_extension": ".py",
   "mimetype": "text/x-python",
   "name": "python",
   "nbconvert_exporter": "python",
   "pygments_lexer": "ipython3",
   "version": "3.7.3"
  }
 },
 "nbformat": 4,
 "nbformat_minor": 2
}
